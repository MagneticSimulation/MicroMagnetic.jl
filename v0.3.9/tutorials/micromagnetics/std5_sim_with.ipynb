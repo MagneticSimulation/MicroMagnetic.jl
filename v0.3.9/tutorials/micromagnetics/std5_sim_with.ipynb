{
 "cells": [
  {
   "cell_type": "markdown",
   "source": [
    "Micromagnetic Standard Problem 5 involves simulating the dynamics of a magnetic vortex in a thin rectangular film under\n",
    "the influence of a spin-polarized current. The problem is designed to test the accuracy of micromagnetic simulations in\n",
    "capturing the complex behavior of vortex structures, including their motion and deformation. The rectangular film in\n",
    "this example has dimensions of 100 nm × 100 nm × 10 nm, and the simulation tracks the position of the vortex core\n",
    "as it evolves over time due to the combined effects of exchange interactions, demagnetization, and spin-transfer torques."
   ],
   "metadata": {}
  },
  {
   "outputs": [],
   "cell_type": "code",
   "source": [
    "using MicroMagnetic\n",
    "using Printf\n",
    "using CairoMakie\n",
    "\n",
    "@using_gpu()"
   ],
   "metadata": {},
   "execution_count": 1
  },
  {
   "cell_type": "markdown",
   "source": [
    "Define a function to initialize a vortex roughly."
   ],
   "metadata": {}
  },
  {
   "outputs": [
    {
     "output_type": "execute_result",
     "data": {
      "text/plain": "init_fun (generic function with 1 method)"
     },
     "metadata": {},
     "execution_count": 2
    }
   ],
   "cell_type": "code",
   "source": [
    "function init_fun(i, j, k, dx, dy, dz)\n",
    "    x = i - 10\n",
    "    y = j - 10\n",
    "    r = sqrt(x^2 + y^2)\n",
    "    if r < 2\n",
    "        return (0, 0, 1)\n",
    "    end\n",
    "    return (y / r, -x / r, 0)\n",
    "end"
   ],
   "metadata": {},
   "execution_count": 2
  },
  {
   "cell_type": "markdown",
   "source": [
    "Define simulation parameters."
   ],
   "metadata": {}
  },
  {
   "outputs": [],
   "cell_type": "code",
   "source": [
    "args = (name=\"std5\", task_s=[\"relax\", \"dynamics\"],          # List of tasks to perform\n",
    "        driver_s=[\"SD\", \"LLG_STT\"],            # List of drivers to use\n",
    "        mesh=FDMesh(; nx=20, ny=20, nz=2, dx=5e-9, dy=5e-9, dz=5e-9), # Mesh configuration\n",
    "        Ms=8e5,                               # Saturation magnetization\n",
    "        A=1.3e-11,                            # Exchange constant\n",
    "        demag=true,                           # Enable demagnetization\n",
    "        m0=init_fun,                          # Initial magnetization function\n",
    "        alpha=0.1,                            # Gilbert damping parameter\n",
    "        ux=-72.438,                           # Effective current density\n",
    "        beta=0.05,                            # Nonadiabatic STT parameter\n",
    "        steps=160,                            # Number of steps for dynamics\n",
    "        dt=0.05ns,                            # Time step size\n",
    "        stopping_dmdt=0.01,                   # Stopping criterion for relaxation\n",
    "        saver_item=SaverItem((\"Rx\", \"Ry\"), (\"<m>\", \"<m>\"), compute_guiding_center),    #vortex center tracking\n",
    "        dynamic_m_interval=1);"
   ],
   "metadata": {},
   "execution_count": 3
  },
  {
   "cell_type": "markdown",
   "source": [
    "Run the simulation using `sim_with` function."
   ],
   "metadata": {}
  },
  {
   "outputs": [
    {
     "name": "stdout",
     "output_type": "stream",
     "text": [
      "[ Info: MicroSim has been created.\n",
      "[ Info: Exchange has been added.\n",
      "[ Info: Running Driver : MicroMagnetic.EnergyMinimization{Float64}.\n",
      "[ Info: max_dmdt is less than stopping_dmdt=0.01 @steps=174, Done!\n",
      "[ Info: The driver LLG_STT is used!\n",
      "................................................................................................................................................................\n",
      "[ Info: step =  160  t = 8.000000e-09\n"
     ]
    }
   ],
   "cell_type": "code",
   "source": [
    "sim_with(args);"
   ],
   "metadata": {},
   "execution_count": 4
  },
  {
   "cell_type": "markdown",
   "source": [
    "Generate a movie for the vortex dynamics."
   ],
   "metadata": {}
  },
  {
   "outputs": [
    {
     "output_type": "execute_result",
     "data": {
      "text/plain": "\"assets/std5.mp4\""
     },
     "metadata": {},
     "execution_count": 5
    }
   ],
   "cell_type": "code",
   "source": [
    "jld2movie(\"std5.jld2\"; output=\"assets/std5.mp4\", component='z', figsize=(400, 400))"
   ],
   "metadata": {},
   "execution_count": 5
  },
  {
   "cell_type": "markdown",
   "source": [
    "![](./assets/std5.mp4)"
   ],
   "metadata": {}
  },
  {
   "cell_type": "markdown",
   "source": [
    "---\n",
    "\n",
    "*This notebook was generated using [Literate.jl](https://github.com/fredrikekre/Literate.jl).*"
   ],
   "metadata": {}
  }
 ],
 "nbformat_minor": 3,
 "metadata": {
  "language_info": {
   "file_extension": ".jl",
   "mimetype": "application/julia",
   "name": "julia",
   "version": "1.10.8"
  },
  "kernelspec": {
   "name": "julia-1.10",
   "display_name": "Julia 1.10.8",
   "language": "julia"
  }
 },
 "nbformat": 4
}
