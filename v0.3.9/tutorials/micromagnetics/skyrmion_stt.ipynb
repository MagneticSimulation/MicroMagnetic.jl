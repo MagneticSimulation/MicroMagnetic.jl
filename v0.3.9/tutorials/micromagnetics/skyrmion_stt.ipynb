{
 "cells": [
  {
   "cell_type": "markdown",
   "source": [
    "In this example, we will study the skyrmion dynamics in a 2d film. We will save the skyrmion\n",
    "positions to a text file and and generate a movie at the end of simulation."
   ],
   "metadata": {}
  },
  {
   "cell_type": "markdown",
   "source": [
    "We import the necessary modules"
   ],
   "metadata": {}
  },
  {
   "outputs": [],
   "cell_type": "code",
   "source": [
    "using MicroMagnetic\n",
    "using Printf\n",
    "\n",
    "@using_gpu()"
   ],
   "metadata": {},
   "execution_count": 1
  },
  {
   "cell_type": "markdown",
   "source": [
    "set_verbose()"
   ],
   "metadata": {}
  },
  {
   "cell_type": "markdown",
   "source": [
    "The studied system is a 800nm x 300nm x 2nm film with periodic boundary conditions."
   ],
   "metadata": {}
  },
  {
   "outputs": [],
   "cell_type": "code",
   "source": [
    "mesh = FDMesh(; nx=400, ny=150, nz=1, dx=2e-9, dy=2e-9, dz=2e-9, pbc=\"xy\");"
   ],
   "metadata": {},
   "execution_count": 2
  },
  {
   "cell_type": "markdown",
   "source": [
    "We create a Sim instance using `create_sim` function, and set basic simulation parameters such as\n",
    "'Ms', 'A', 'D' and 'H'."
   ],
   "metadata": {}
  },
  {
   "outputs": [
    {
     "name": "stdout",
     "output_type": "stream",
     "text": [
      "[ Info: MicroSim has been created.\n",
      "[ Info: Exchange has been added.\n",
      "[ Info: Bulk DMI has been added.\n",
      "[ Info: Static Zeeman has been added.\n"
     ]
    }
   ],
   "cell_type": "code",
   "source": [
    "sim = create_sim(mesh; Ms=3.87e5, A=5.2e-12, D=1e-3, H=(0, 0, 160 * mT), name=\"skx\");"
   ],
   "metadata": {},
   "execution_count": 3
  },
  {
   "cell_type": "markdown",
   "source": [
    "We set the initial magnetization configuration to a skyrmion at position (200nm, 80nm) with radius 20 nm.\n",
    "Note that the initialized magnetization is a roughly guessing for the skyrimon."
   ],
   "metadata": {}
  },
  {
   "outputs": [],
   "cell_type": "code",
   "source": [
    "init_m0_skyrmion(sim, (200e-9, 80e-9), 2e-8)"
   ],
   "metadata": {},
   "execution_count": 4
  },
  {
   "cell_type": "markdown",
   "source": [
    "We relax the system to obtain the skyrmion profile."
   ],
   "metadata": {}
  },
  {
   "outputs": [
    {
     "name": "stdout",
     "output_type": "stream",
     "text": [
      "[ Info: Running Driver : MicroMagnetic.EnergyMinimization{Float64}.\n",
      "[ Info: max_dmdt is less than stopping_dmdt=0.01 @steps=342, Done!\n"
     ]
    }
   ],
   "cell_type": "code",
   "source": [
    "relax(sim; max_steps=20000, stopping_dmdt=0.01)"
   ],
   "metadata": {},
   "execution_count": 5
  },
  {
   "cell_type": "markdown",
   "source": [
    "We save the magnetization to vtk, which can be opened using Paraview for 3D visualization."
   ],
   "metadata": {}
  },
  {
   "outputs": [
    {
     "output_type": "execute_result",
     "data": {
      "text/plain": "1-element Vector{String}:\n \"skx.vts\""
     },
     "metadata": {},
     "execution_count": 6
    }
   ],
   "cell_type": "code",
   "source": [
    "MicroMagnetic.save_vtk(sim, \"skx\")"
   ],
   "metadata": {},
   "execution_count": 6
  },
  {
   "cell_type": "markdown",
   "source": [
    "After obataining the skyrmion profile, we then move the skyrmion using spin transfer torques.\n",
    "So we use change the driver to \"LLG_STT\" using the `set_driver` function. Meanwhile,\n",
    "we set the relevant parameters such as alpha, beta and u."
   ],
   "metadata": {}
  },
  {
   "outputs": [
    {
     "name": "stdout",
     "output_type": "stream",
     "text": [
      "[ Info: The driver LLG_STT is used!\n"
     ]
    }
   ],
   "cell_type": "code",
   "source": [
    "set_driver(sim; driver=\"LLG_STT\", alpha=0.05, beta=0.2, ux=-20)"
   ],
   "metadata": {},
   "execution_count": 7
  },
  {
   "cell_type": "markdown",
   "source": [
    "During the simulation, we need to extract the skyrmion center, so we write a call back function\n",
    "in which the skyrmion positions are computed using the `compute_guiding_center` function and\n",
    "saved to a text file with append mode."
   ],
   "metadata": {}
  },
  {
   "outputs": [
    {
     "output_type": "execute_result",
     "data": {
      "text/plain": "call_back_fun (generic function with 1 method)"
     },
     "metadata": {},
     "execution_count": 8
    }
   ],
   "cell_type": "code",
   "source": [
    "function call_back_fun(sim, t)\n",
    "    Rx, Ry = compute_guiding_center(sim)\n",
    "    open(\"XY.txt\", \"a\") do f\n",
    "        return write(f, @sprintf(\"%g  %g  %g\\n\", t, Rx, Ry))\n",
    "    end\n",
    "end"
   ],
   "metadata": {},
   "execution_count": 8
  },
  {
   "cell_type": "markdown",
   "source": [
    "We use the `run_sim` function to run the simulation.\n",
    "after that, a jld2 file will be created and we can export it to a movie (.mp4) using the `jld2movie`."
   ],
   "metadata": {}
  },
  {
   "outputs": [],
   "cell_type": "code",
   "source": [
    "if !isfile(\"assets/skx.mp4\")\n",
    "    run_sim(sim; steps=100, dt=1e-10, save_m_every=1, call_back=call_back_fun)\n",
    "    jld2movie(\"skx.jld2\"; output=\"assets/skx.mp4\")\n",
    "end"
   ],
   "metadata": {},
   "execution_count": 9
  },
  {
   "cell_type": "markdown",
   "source": [
    "![](./assets/skx.mp4)"
   ],
   "metadata": {}
  },
  {
   "cell_type": "markdown",
   "source": [
    "---\n",
    "\n",
    "*This notebook was generated using [Literate.jl](https://github.com/fredrikekre/Literate.jl).*"
   ],
   "metadata": {}
  }
 ],
 "nbformat_minor": 3,
 "metadata": {
  "language_info": {
   "file_extension": ".jl",
   "mimetype": "application/julia",
   "name": "julia",
   "version": "1.10.8"
  },
  "kernelspec": {
   "name": "julia-1.10",
   "display_name": "Julia 1.10.8",
   "language": "julia"
  }
 },
 "nbformat": 4
}
