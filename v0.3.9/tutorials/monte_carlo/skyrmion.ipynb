{
 "cells": [
  {
   "cell_type": "markdown",
   "source": [
    "This example simulates the magnetic skyrmion phase using Monte Carlo methods.\n",
    "The parameters for the system are taken from the paper:\n",
    "\n",
    "- \"Very large Dzyaloshinskii-Moriya interaction in two-dimensional Janus manganese dichalcogenides and its application to realize skyrmion states,\"\n",
    "  *Physical Review B*, vol. 101, p. 184401 (2020).\n",
    "\n",
    "Here, we replicate the skyrmion phase of MnSTe shown in Figure 4 of the paper,\n",
    "simulating at a temperature of 10K and an external field of 1.5T."
   ],
   "metadata": {}
  },
  {
   "outputs": [],
   "cell_type": "code",
   "source": [
    "using MicroMagnetic\n",
    "using NPZ\n",
    "\n",
    "@using_gpu()  # Enable GPU acceleration if available."
   ],
   "metadata": {},
   "execution_count": 1
  },
  {
   "cell_type": "markdown",
   "source": [
    "Relaxation function to compute the skyrmion phase."
   ],
   "metadata": {}
  },
  {
   "outputs": [
    {
     "output_type": "execute_result",
     "data": {
      "text/plain": "relax_system (generic function with 1 method)"
     },
     "metadata": {},
     "execution_count": 2
    }
   ],
   "cell_type": "code",
   "source": [
    "function relax_system(; Hz = 0.1)\n",
    "    #Create a triangular mesh with periodic boundary conditions in the x and y directions.\n",
    "    mesh = TriangularMesh(nx = 160, ny = 160, pbc = \"xy\")\n",
    "\n",
    "    #Initialize the Monte Carlo simulation object.\n",
    "    sim = MonteCarlo(mesh; name = \"mc\")\n",
    "\n",
    "    #Set up the initial magnetization with random orientation.\n",
    "    init_m0_random(sim)\n",
    "\n",
    "    #Add simulation parameters:\n",
    "    #Exchange interaction.\n",
    "    add_exch(sim; J = 10.52 * meV)\n",
    "\n",
    "    #Dzyaloshinskii-Moriya interaction (DMI).\n",
    "    add_dmi(sim; D = 2.63 * meV, type = \"interfacial\")\n",
    "\n",
    "    #Zeeman interaction with external field Hz.\n",
    "    mu_s = 3.64 * mu_B  # Magnetic moment per spin.\n",
    "    add_zeeman(sim; Hz = Hz * mu_s)\n",
    "\n",
    "    #Uniaxial anisotropy.\n",
    "    add_anis(sim; Ku = 0.29 * meV)\n",
    "\n",
    "    #Perform high-temperature annealing to prepare the system.\n",
    "    Ts = [100000, 1000, 500]  # Annealing temperatures (in K).\n",
    "    for T in Ts\n",
    "        sim.T = T\n",
    "        run_sim(sim; max_steps = 10_000, save_vtk_every = -1, save_m_every = -1)\n",
    "    end\n",
    "\n",
    "    #Gradual cooling to reach the target temperature of 10K.\n",
    "    for T in 100:-10:10\n",
    "        sim.T = T\n",
    "        run_sim(sim; max_steps = 50_000, save_vtk_every = -1, save_m_every = -1)\n",
    "    end\n",
    "\n",
    "    #Save the final results.\n",
    "    save_vtk(sim, \"final.vts\")                  # Save magnetization as a VTK file.\n",
    "    npzwrite(\"final_m.npy\", Array(sim.spin))    # Save magnetization as a NumPy file.\n",
    "end"
   ],
   "metadata": {},
   "execution_count": 2
  },
  {
   "cell_type": "markdown",
   "source": [
    "Uncomment the following line to run the simulation with an external field of 1.5T."
   ],
   "metadata": {}
  },
  {
   "outputs": [],
   "cell_type": "code",
   "source": [
    "#relax_system(Hz = 1.5)"
   ],
   "metadata": {},
   "execution_count": 3
  },
  {
   "cell_type": "markdown",
   "source": [
    "The final magnetization data is saved in \"final.vts\" and \"final_m.npy\".\n",
    "You can visualize the results using ParaView or Python. Below is an example Python script:"
   ],
   "metadata": {}
  },
  {
   "cell_type": "markdown",
   "source": [
    "```python\n",
    "import numpy as np\n",
    "import matplotlib.pyplot as plt\n",
    "from matplotlib.transforms import Affine2D\n",
    "\n",
    "# Load the magnetization data.\n",
    "m = np.load(\"final_m.npy\")\n",
    "m = np.reshape(m, (3, 160, 160), order='F')  # Reshape to a 3x160x160 array.\n",
    "\n",
    "dx = 3.6\n",
    "\n",
    "# Plot the z-component of the magnetization (m_z).\n",
    "fig, ax = plt.subplots(figsize=(3, 2))\n",
    "im = ax.imshow(\n",
    "    np.transpose(m[2, :, :]),\n",
    "    extent=[0, 160 * dx, 0, 160 * dx * np.sqrt(3) / 2],\n",
    "    origin='lower',\n",
    "    cmap='coolwarm'\n",
    ")\n",
    "\n",
    "# Apply a skew transformation to create a hexagonal visualization.\n",
    "transform = Affine2D().skew_deg(-30, 0) + ax.transData\n",
    "im.set_transform(transform)\n",
    "\n",
    "# Adjust the x-axis limits to center the visualization.\n",
    "ax.set_xlim(-80 * dx, 160 * dx)\n",
    "\n",
    "plt.tight_layout()\n",
    "plt.savefig(\"final_m.png\")\n",
    "```"
   ],
   "metadata": {}
  },
  {
   "cell_type": "markdown",
   "source": [
    "The plot should look like this:"
   ],
   "metadata": {}
  },
  {
   "cell_type": "markdown",
   "source": [
    "![](assets/final_m.png)"
   ],
   "metadata": {}
  },
  {
   "cell_type": "markdown",
   "source": [
    "---\n",
    "\n",
    "*This notebook was generated using [Literate.jl](https://github.com/fredrikekre/Literate.jl).*"
   ],
   "metadata": {}
  }
 ],
 "nbformat_minor": 3,
 "metadata": {
  "language_info": {
   "file_extension": ".jl",
   "mimetype": "application/julia",
   "name": "julia",
   "version": "1.10.8"
  },
  "kernelspec": {
   "name": "julia-1.10",
   "display_name": "Julia 1.10.8",
   "language": "julia"
  }
 },
 "nbformat": 4
}
