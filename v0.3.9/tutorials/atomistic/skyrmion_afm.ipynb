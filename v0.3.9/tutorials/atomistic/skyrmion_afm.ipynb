{
 "cells": [
  {
   "outputs": [
    {
     "output_type": "execute_result",
     "data": {
      "text/plain": "relax_system (generic function with 1 method)"
     },
     "metadata": {},
     "execution_count": 1
    }
   ],
   "cell_type": "code",
   "source": [
    "using MicroMagnetic\n",
    "using Printf\n",
    "\n",
    "@using_gpu()\n",
    "\n",
    "mesh = CubicMesh(; nx=800, ny=800, nz=1, dx=0.418e-9, dy=0.418e-9, dz=0.418e-9, pbc=\"xy\")\n",
    "\n",
    "function m0_fun(i, j, k, dx, dy, dz)\n",
    "    flag = (i + j) % 2 == 0 ? 1 : -1\n",
    "    r2 = (i - 300)^2 + (j - 300)^2\n",
    "    if r2 < 10^2\n",
    "        return (0.1 * flag, 0, -1 * flag)\n",
    "    end\n",
    "    return (0.1, 0, 1 * flag)\n",
    "end\n",
    "\n",
    "function relax_system()\n",
    "    sim = Sim(mesh; driver=\"LLG\")\n",
    "    sim.driver.alpha = 0.5\n",
    "\n",
    "    set_mu_s(sim, 2.96 * mu_B)\n",
    "\n",
    "    add_exch(sim, -34.4 * meV)\n",
    "    add_dmi(sim, 1.09 * meV)\n",
    "    add_anis(sim, 0.053 * meV; axis=(0, 0, 1))\n",
    "    #add_demag(sim)\n",
    "\n",
    "    init_m0(sim, m0_fun)\n",
    "\n",
    "    #using LLG to relax the system for the first 500 steps\n",
    "    relax(sim; max_steps=500, stopping_dmdt=1e-4)\n",
    "\n",
    "    #change driver to SD since SD is much faster than LLG\n",
    "    set_driver(sim; driver=\"SD\")\n",
    "    sim.driver.max_tau = 1\n",
    "    relax(sim; max_steps=50000, stopping_dmdt=1e-4)\n",
    "\n",
    "    return save_vtk(sim, \"afm_skx\")\n",
    "end"
   ],
   "metadata": {},
   "execution_count": 1
  },
  {
   "cell_type": "markdown",
   "source": [
    "relax_system()"
   ],
   "metadata": {}
  },
  {
   "cell_type": "markdown",
   "source": [
    "---\n",
    "\n",
    "*This notebook was generated using [Literate.jl](https://github.com/fredrikekre/Literate.jl).*"
   ],
   "metadata": {}
  }
 ],
 "nbformat_minor": 3,
 "metadata": {
  "language_info": {
   "file_extension": ".jl",
   "mimetype": "application/julia",
   "name": "julia",
   "version": "1.10.8"
  },
  "kernelspec": {
   "name": "julia-1.10",
   "display_name": "Julia 1.10.8",
   "language": "julia"
  }
 },
 "nbformat": 4
}
