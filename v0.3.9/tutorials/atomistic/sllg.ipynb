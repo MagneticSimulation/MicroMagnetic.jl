{
 "cells": [
  {
   "cell_type": "markdown",
   "source": [
    "In this example, we will verify the thermal noise in SLLG, see [Fig.6 script](https://github.com/MagneticSimulation/MicroMagnetic.jl/blob/master/figure_scripts/fig6/sllg.jl).\n",
    "We will then compare the distribution of magnetization with the analytical solution."
   ],
   "metadata": {}
  },
  {
   "cell_type": "markdown",
   "source": [
    "We import necessary packages."
   ],
   "metadata": {}
  },
  {
   "outputs": [],
   "cell_type": "code",
   "source": [
    "using MicroMagnetic\n",
    "using CairoMakie\n",
    "\n",
    "@using_gpu()"
   ],
   "metadata": {},
   "execution_count": 1
  },
  {
   "cell_type": "markdown",
   "source": [
    "We define a function to describe the simulation setup."
   ],
   "metadata": {}
  },
  {
   "outputs": [
    {
     "output_type": "execute_result",
     "data": {
      "text/plain": "run (generic function with 1 method)"
     },
     "metadata": {},
     "execution_count": 2
    }
   ],
   "cell_type": "code",
   "source": [
    "function run(; dt=1e-15)\n",
    "    mesh = CubicMesh(; nx=30, ny=30, nz=30)\n",
    "\n",
    "    V = 2.8e-26\n",
    "    sim = Sim(mesh; driver=\"LLG\", integrator=\"RungeKutta\")\n",
    "    sim.driver.alpha = 0.1\n",
    "    sim.driver.gamma = 1.76e11\n",
    "    sim.driver.integrator.step = dt\n",
    "\n",
    "    #In principle, this value does not influence the result, however,\n",
    "    #a large value will require a longer time to reach the equilibrium.\n",
    "    set_mu_s(sim, 1.42e5 * V)\n",
    "\n",
    "    init_m0_random(sim)\n",
    "\n",
    "    add_anis(sim, 7.2e5 * V; axis=(0, 0, 1))\n",
    "    add_thermal_noise(sim, 300.00)\n",
    "\n",
    "    #dt = 1e-15, so the total time is 1e-15 * 1e5 = 1e-10 s\n",
    "    relax(sim; max_steps=Int(1e5), stopping_dmdt=0, save_data_every=1000)\n",
    "\n",
    "    save_vtk(sim, \"sllg.vts\")\n",
    "    return sim\n",
    "end"
   ],
   "metadata": {},
   "execution_count": 2
  },
  {
   "cell_type": "markdown",
   "source": [
    "We define the analytical solution for the magnetization distribution."
   ],
   "metadata": {}
  },
  {
   "outputs": [
    {
     "output_type": "execute_result",
     "data": {
      "text/plain": "analytical (generic function with 1 method)"
     },
     "metadata": {},
     "execution_count": 3
    }
   ],
   "cell_type": "code",
   "source": [
    "#using SpecialFunctions\n",
    "function analytical()\n",
    "    K = 7.2e5\n",
    "    V = 2.8e-26\n",
    "    T = 300\n",
    "    chi = K * V / (k_B * T)\n",
    "    Z = 2 * dawson(sqrt(chi)) / sqrt(chi)\n",
    "\n",
    "    mzs = range(-1, 1, 201)\n",
    "    ps = 1.0 / Z * exp.(-chi * (1 .- mzs .^ 2))\n",
    "    return mzs, ps\n",
    "end"
   ],
   "metadata": {},
   "execution_count": 3
  },
  {
   "cell_type": "markdown",
   "source": [
    "To run the simulation and plot the distribution of magnetization, we define the following function.\n",
    "Note: the package `StatsBase`, `SpecialFunctions` and `LinearAlgebra` are required for this function."
   ],
   "metadata": {}
  },
  {
   "outputs": [
    {
     "output_type": "execute_result",
     "data": {
      "text/plain": "run_and_plot (generic function with 1 method)"
     },
     "metadata": {},
     "execution_count": 4
    }
   ],
   "cell_type": "code",
   "source": [
    "#using StatsBase\n",
    "#using LinearAlgebra\n",
    "function run_and_plot()\n",
    "    if !isfile(\"sllg.vts\")\n",
    "        run()\n",
    "    end\n",
    "\n",
    "    m = MicroMagnetic.read_vtk(\"sllg.vts\")\n",
    "    m = reshape(m, 3, div(length(m), 3))\n",
    "\n",
    "    hist = fit(Histogram, m[3, :], -1:0.1:1; closed=:right)\n",
    "    mz = midpoints(hist.edges[1])\n",
    "    h = normalize(hist; mode=:pdf)\n",
    "\n",
    "    fig = Figure(; size=(500, 360), fontsize=18)\n",
    "    ax = Axis(fig[1, 1]; xlabel=L\"$m_z$\", ylabel=L\"log($P_\\mathrm{eq}$)\")\n",
    "\n",
    "    mzs, ps = analytical()\n",
    "    l1 = lines!(ax, mzs, log.(ps); linestyle=:solid, color=:slateblue1, label=\"Analytical\")\n",
    "    s1 = scatter!(ax, mz, log.(h.weights); markersize=10, strokewidth=1, alpha=0,\n",
    "                  color=:white, label=\"MicroMagnetic.jl\")\n",
    "\n",
    "    axislegend(ax; position=(0.5, 0.75), labelsize=14)\n",
    "\n",
    "    save(\"P_mz.png\", fig)\n",
    "    return fig\n",
    "end"
   ],
   "metadata": {},
   "execution_count": 4
  },
  {
   "cell_type": "markdown",
   "source": [
    "Uncomment the following line to run the simulation and plot the distribution of magnetization"
   ],
   "metadata": {}
  },
  {
   "outputs": [],
   "cell_type": "code",
   "source": [
    "#run_and_plot()"
   ],
   "metadata": {},
   "execution_count": 5
  },
  {
   "cell_type": "markdown",
   "source": [
    "The plot should look like this:\n",
    "![](assets/P_mz.png)"
   ],
   "metadata": {}
  },
  {
   "cell_type": "markdown",
   "source": [
    "---\n",
    "\n",
    "*This notebook was generated using [Literate.jl](https://github.com/fredrikekre/Literate.jl).*"
   ],
   "metadata": {}
  }
 ],
 "nbformat_minor": 3,
 "metadata": {
  "language_info": {
   "file_extension": ".jl",
   "mimetype": "application/julia",
   "name": "julia",
   "version": "1.10.8"
  },
  "kernelspec": {
   "name": "julia-1.10",
   "display_name": "Julia 1.10.8",
   "language": "julia"
  }
 },
 "nbformat": 4
}
